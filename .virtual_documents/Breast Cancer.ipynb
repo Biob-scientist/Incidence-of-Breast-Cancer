








#import all the neccessary packages and styles for the project
import pandas as pd
import numpy as np
import matplotlib.pyplot as plt
import seaborn as sns
import plotly.graph_objs as go
import plotly.express as px

%matplotlib inline
plt.style.use('default')





# exract data from the local machine
dataset=[
    "breast_cancer_deaths_per_100000_women.csv",
    "breast_cancer_new_cases_per_100000_women.csv",
    "breast_cancer_number_of_female_deaths.csv",
    "breast_cancer_number_of_new_female_cases.csv",
    "continents-according-to-our-world-in-data.csv",
    "hdi_human_development_index.csv",
    "pop.csv",
    # "C:/Users/Oluwasola.Aduewa/Downloads/breast_cancer_deaths_per_100000_women.csv"
]


# the function reads csv files according to its index
def load(data,num):
    """reads all the csv files"""
    return pd.read_csv(data[num])


#Load all the dataset
bc_death_th=load(dataset,0) 
bc_newcase_th=load(dataset,1)   
bc_death=load(dataset,2)
bc_newcase=load(dataset,3) 
geo=load(dataset,4) 
hdi=load(dataset,5) 
pop=load(dataset,6) 






#create a function that performs the melts the operation 
def transpose(df,var):
    df=pd.melt(df, id_vars='country', var_name='year', value_name=var)
    return(df)

#*********************************************************************#
#melt the dataset accordingly
bc_death_th=transpose(bc_death_th,"bc_death_in_thousand")
bc_newcase_th=transpose(bc_newcase_th,"bc_newcase_in_thousand")
bc_death=transpose(bc_death,"bc_death")
bc_newcase=transpose(bc_newcase,"bc_newcase")
# geo=transpose(investment_df,'region')
hdi=transpose(hdi,"hdi")
pop=transpose(pop,"population")


geo.columns=['country','code','year','continent']
geo.head()





data_set=[bc_death,bc_death_th,bc_newcase_th,bc_newcase,hdi]
#create a function that merges all other dataset at once
def merge(others,df):
    for i,v in enumerate(others):
        df=pd.merge(df,others[i],on=['country','year'])
    return df




from functools import reduce

if len(data_set) > 1:
    # Define the function to merge two DataFrames on common keys
    def merge_dataframes(left, right):
        return pd.merge(left, right, on=['country', 'year'],how='outer')

    # Use reduce to merge all DataFrames in the list
    merged_df = reduce(merge_dataframes, data_set)
else:
    merged_df = data_set[0]  # If there's only one DataFrame, no need to merge

# Now merged_df contains the result of joining all DataFrames on 'country' and 'year'



df=merged_df.copy()


def convert_population(value):
    if pd.isnull(value):
        return np.nan  # Return NaN if the value is NaN
    elif isinstance(value, (int, float)):
        return int(value)  # Convert numeric values to integer directly
    elif 'B' in value:
        return int(float(value[:-1]) * 1e9)  # Convert billions to integer
    elif 'M' in value:
        return int(float(value[:-1]) * 1e6)  # Convert millions to integer
    elif 'k' in value:
        return int(float(value[:-1]) * 1e3)  # Convert thousands to integer
    else:
        return int(value)  # Convert other values directly to integer


# Assuming df is your DataFrame and 'population' is the column containing the values
# df['population'] = df['population'].apply(convert_population)



df.head()


df=df.merge(geo[['country','code','continent']],on='country',how='left')


df[df['continent'].isnull()].country.unique()





import pandas as pd

# Assuming df is your DataFrame containing the 'country' and 'continent' columns
# Define a dictionary mapping countries to continents
country_to_continent = {
    'UAE': 'Asia',
    'Congo, Dem. Rep.': 'Africa',
    'Congo, Rep.': 'Africa',
    'Cook Is': 'Oceania',
    'Czech Republic': 'Europe',
    'Micronesia, Fed. Sts.': 'Oceania',
    'UK': 'Europe',
    'Kyrgyz Republic': 'Asia',
    'St. Kitts and Nevis': 'North America',
    'Lao': 'Asia',
    'St. Lucia': 'North America',
    'Slovak Republic': 'Europe',
    'Timor-Leste': 'Asia',
    'USA': 'North America',
    'St. Vincent and the Grenadines': 'North America',
    'Virgin Islands (U.S.)': 'North America',
    'Hong Kong, China': 'Asia',
    'Holy See': 'Europe'
}

# Fill missing values in 'continent' column based on 'country' column
df['continent'] = df['continent'].fillna(df['country'].map(country_to_continent))




# Define a dictionary mapping countries to their codes
country_to_code = {
    'UAE': 'AE',
    'Congo, Dem. Rep.': 'CD',
    'Congo, Rep.': 'CG',
    'Cook Is': 'CK',
    'Czech Republic': 'CZ',
    'Micronesia, Fed. Sts.': 'FM',
    'UK': 'GB',
    'Kyrgyz Republic': 'KG',
    'St. Kitts and Nevis': 'KN',
    'Lao': 'LA',
    'St. Lucia': 'LC',
    'Slovak Republic': 'SK',
    'Timor-Leste': 'TL',
    'USA': 'US',
    'St. Vincent and the Grenadines': 'VC',
    'Virgin Islands (U.S.)': 'VI',
    'Hong Kong, China': 'HK',
    'Holy See': 'VA'
}

# Fill missing values in 'code' column based on 'country' column
df['code'] = df['code'].fillna(df['country'].map(country_to_code))



df.head()


def convert_to_float(value):
    if pd.isnull(value):
        return value  # Return NaN if the value is NaN
    elif 'M' in value:
        return float(value.replace('M', '')) * 1e6  # Convert millions to float
    elif 'k' in value:
        return float(value.replace('k', '')) * 1e3  # Convert thousands to float
    else:
        return float(value)  # Convert other values to float

# Assuming df is your DataFrame and 'bc_death' is the column containing the values
df['bc_death'] = df['bc_death'].apply(convert_to_float)
df['bc_newcase'] = df['bc_newcase'].apply(convert_to_float)





# df['population'] = pd.to_numeric(df['population'], errors='coerce', downcast='integer')
df['year'] = pd.to_numeric(df['year'], errors='coerce', downcast='integer')
# df['population'] = pd.to_numeric(df['population'], errors='coerce', downcast='integer')









import plotly.express as px

# Assuming df_agg is your aggregated DataFrame with columns 'continent', 'year', and 'bc_death'
df_agg = df.groupby(['continent', 'year'], as_index=False)['bc_death'].sum()
# Filter the DataFrame to include only data from 1989 onwards
df_filtered = df_agg[(df_agg['year'] >= 1989) & (df_agg['year'] < 2020)]

# Plot line plots for each continent
fig = px.line(df_filtered, x='year', y='bc_death', color='continent', 
              title='Breast Cancer Deaths by Continent Over the Years',
              line_shape='spline',  # Use spline interpolation for smoother curves
              labels={'year': 'Year', 'bc_death': 'Number of Deaths'},
              width=800,  # Set width of the plot
              height=500,  # Set height of the plot
              template='plotly_dark'  # Use dark theme
             )

# Customize legend
fig.update_traces(mode='lines+markers')  # Show markers along with lines
fig.update_layout(legend=dict(title='Continent', orientation='h', yanchor='top', y=1.1, xanchor='right', x=1))

# Show the plot
fig.show()









fig = px.choropleth(df, 
                    locations="country", 
                    locationmode="country names",
                    color="bc_death",
                    hover_name="country",
                    color_continuous_scale='Reds',
                    title="Breast Cancer Deaths by Country",
                    labels={"bc_death": "Deaths"}
                   )

# fig.update_layout(geo=dict(showcoastlines=True))
# Increase the size of the plot
fig.update_layout(
    geo=dict(showcoastlines=True),
    height=600,  # Set height
    width=700    # Set width
)
# Customize the color bar
fig.update_coloraxes(colorbar=dict(thickness=15, len=0.6, yanchor='top', y=0.9))
fig.show()









import plotly.express as px
agg=df.groupby(['continent', 'year'], as_index=False)['bc_death_in_thousand'].sum()
# Assuming df_agg is your aggregated DataFrame with columns 'continent', 'year', and 'bc_death'
df_agg = agg.copy()
# Filter the DataFrame to include only data from 1989 onwards
df_filtered = df_agg[(df_agg['year'] >= 1989) & (df_agg['year'] < 2020)]

# Plot line plots for each continent
fig = px.line(df_filtered, x='year', y='bc_death_in_thousand', color='continent', 
              title='Breast Cancer Deaths in 100,000 female Over the Years',
              line_shape='spline',  # Use spline interpolation for smoother curves
              labels={'year': 'Year', 'bc_death_in_thousand': 'Number of Deaths'},
              width=800,  # Set width of the plot
              height=500,  # Set height of the plot
              template='plotly_dark'  # Use dark theme
             )

# Customize legend
fig.update_traces(mode='lines+markers')  # Show markers along with lines
fig.update_layout(legend=dict(title='Continent', orientation='h', yanchor='top', y=1.1, xanchor='right', x=1))

# Show the plot
fig.show()









fig = px.choropleth(df, 
                    locations="country", 
                    locationmode="country names",
                    color="bc_death_in_thousand",
                    hover_name="country",
                    color_continuous_scale='Reds',
                    title="Breast Cancer Deaths in 100,000 Female",
                    labels={"bc_death_in_thousand": "Deaths"}
                   )

# fig.update_layout(geo=dict(showcoastlines=True))
# Increase the size of the plot
fig.update_layout(
    geo=dict(showcoastlines=True),
    height=600,  # Set height
    width=700    # Set width
)
# Customize the color bar
fig.update_coloraxes(colorbar=dict(thickness=15, len=0.6, yanchor='top', y=0.9))
fig.show()






matrix=df[['bc_death', 'bc_death_in_thousand', 'bc_newcase_in_thousand', 'bc_newcase', 'hdi']].corr().round(2)
matrix








import plotly.express as px

# Assuming df is your DataFrame with columns 'hdi' and 'bc_death'

# Plot scatter plot of HDI vs. breast cancer deaths with trendline
fig = px.scatter(df, x='hdi', y='bc_newcase_in_thousand', 
                 title='Relationship Bewteen HDI and Breast Cancer Deaths in 100,000 Females',
                 labels={'hdi': 'Human Development Index (HDI)', 'bc_newcase_in_thousand': 'Deaths in 100,000 Females'},
                 trendline='ols',  # Add trendline using Ordinary Least Squares method
                 width=800,  # Set width of the plot
                 height=600,  # Set height of the plot
                 template='plotly_white'  # Use white background
                )

# Customize trendline and annotations
fig.update_traces(marker=dict(size=3, opacity=0.4),
                  selector=dict(mode='markers'))
fig.add_annotation(x=0.7, y=154, text="Positive Correlation (0.76)", showarrow=False, font=dict(size=12, color='blue'), align='left')
fig.add_annotation(x=0.7, y=130, text="Breast Cancer Deaths ~ Higher HDI", showarrow=True, arrowhead=1, arrowwidth=2, arrowcolor='red', font=dict(size=12, color='black'), align='left')

# Show the plot
fig.show()












# df.to_csv('raw_cleaned_data')



